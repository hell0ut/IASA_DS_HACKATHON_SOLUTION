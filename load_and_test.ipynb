{
 "cells": [
  {
   "cell_type": "code",
   "execution_count": 1,
   "metadata": {
    "pycharm": {
     "name": "#%%\n"
    },
    "tags": []
   },
   "outputs": [],
   "source": [
    "import numpy as np\n",
    "import pandas as pd\n",
    "import matplotlib.pyplot as plt\n",
    "import seaborn as sns\n",
    "\n",
    "from catboost import CatBoostRegressor\n",
    "from sklearn.metrics import mean_squared_error, mean_absolute_error"
   ]
  },
  {
   "cell_type": "markdown",
   "metadata": {},
   "source": [
    "Як було визначено під час розробки моделі, через велику кількість нулів у цільовій змінній ми відразу , головну метрику ми обирали поміж RMSE та MAE. Основною їх різницею є те, що RMSE штрафує за більші помилки сильніше, а MAE легше інтерпретується. Було вирішено, що особливість RMSE може бути корисною в контексті задачі. "
   ]
  },
  {
   "cell_type": "code",
   "execution_count": 3,
   "metadata": {
    "collapsed": false,
    "jupyter": {
     "outputs_hidden": false
    },
    "pycharm": {
     "name": "#%%\n"
    }
   },
   "outputs": [],
   "source": [
    "categories = ['country_code', 'platform', 'media_source']\n",
    "\n",
    "non_decreasing_cum_cols_start_with = [\n",
    "    #day\n",
    "    'total_sessions_day', 'chapters_finished_day', 'chapters_opened_day',\n",
    "    'chapters_closed_day', 'diamonds_received_day', 'diamonds_spent_day',\n",
    "    'tickets_spent_day',\n",
    "    #session\n",
    "    'chapters_finished_session', 'chapters_opened_session',\n",
    "    'chapters_closed_session', 'diamonds_spent_session', 'tickets_spent_session',\n",
    "    #incomes\n",
    "    'app_sub_ltv_day', 'app_iap_ltv_day', 'ad_ltv_day'\n",
    "]\n",
    "\n",
    "def divide_df(df_t):\n",
    "    target_cols = [col for col in df_t.columns if col.startswith('target')]\n",
    "    targets_df = df_t[target_cols]\n",
    "    df_t.drop(columns=target_cols, inplace=True)\n",
    "    return targets_df\n",
    "\n",
    "def generate_differences(df_t):\n",
    "    for el in non_decreasing_cum_cols_start_with:\n",
    "        arr = [col[-1] for col in df_t.columns if col.startswith(el)]\n",
    "\n",
    "        for i in range(len(arr)):\n",
    "            for j in range(i + 1, len(arr)):\n",
    "                df_t[el + arr[j] + '-' + el + arr[i]] = df_t[el + arr[j]] - df_t[el + arr[i]]\n",
    "\n",
    "    return df_t"
   ]
  },
  {
   "cell_type": "code",
   "execution_count": 4,
   "metadata": {
    "collapsed": false,
    "jupyter": {
     "outputs_hidden": false
    },
    "pycharm": {
     "name": "#%%\n"
    }
   },
   "outputs": [],
   "source": [
    "DATA_PATH = 'tt.zip' ##enter_path_for_data_csv\n",
    "MODEL_PATH = 'best_model'\n",
    "data = pd.read_csv(DATA_PATH)\n",
    "data = data.dropna()\n",
    "data.drop(columns=['install_date','country_code'], inplace=True)\n",
    "data_targets = divide_df(data)\n",
    "data = generate_differences(data)\n",
    "data= pd.get_dummies(data)"
   ]
  },
  {
   "cell_type": "code",
   "execution_count": null,
   "metadata": {
    "collapsed": false,
    "jupyter": {
     "outputs_hidden": false
    },
    "pycharm": {
     "name": "#%%\n"
    }
   },
   "outputs": [],
   "source": [
    "from catboost import CatBoostRegressor\n",
    "model = CatBoostRegressor(task_type='GPU')\n",
    "model.load_model(MODEL_PATH)"
   ]
  },
  {
   "cell_type": "code",
   "execution_count": null,
   "metadata": {
    "collapsed": false,
    "jupyter": {
     "outputs_hidden": false
    },
    "pycharm": {
     "is_executing": true,
     "name": "#%%\n"
    }
   },
   "outputs": [],
   "source": [
    "preds = model.predict(data)\n",
    "\n",
    "print(f'Train RMSE: {np.sqrt(mean_squared_error(data, preds))} '\n",
    "      f'MAE: {mean_absolute_error(data, preds)}')"
   ]
  }
 ],
 "metadata": {
  "kernelspec": {
   "display_name": "Python 3 (ipykernel)",
   "language": "python",
   "name": "python3"
  },
  "language_info": {
   "codemirror_mode": {
    "name": "ipython",
    "version": 3
   },
   "file_extension": ".py",
   "mimetype": "text/x-python",
   "name": "python",
   "nbconvert_exporter": "python",
   "pygments_lexer": "ipython3",
   "version": "3.9.12"
  }
 },
 "nbformat": 4,
 "nbformat_minor": 4
}
